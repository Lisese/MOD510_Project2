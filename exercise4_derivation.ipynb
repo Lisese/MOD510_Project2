{
 "cells": [
  {
   "cell_type": "markdown",
   "id": "5a3d9865",
   "metadata": {},
   "source": [
    "# Derivation of Well Pressure in Terms of Well Block Pressure Using Finite Difference Approximation"
   ]
  },
  {
   "cell_type": "markdown",
   "id": "ddd0f824",
   "metadata": {},
   "source": [
    "\n",
    "To derive an expression for the well pressure \\( p_w \\) in terms of the well block pressure \\( p_0 \\), we start with the given equations and proceed with finite difference approximations.\n",
    "    "
   ]
  },
  {
   "cell_type": "markdown",
   "id": "0d9e7a4a",
   "metadata": {},
   "source": [
    "## Step 1: Radial Derivative Equation"
   ]
  },
  {
   "cell_type": "markdown",
   "id": "73308e5e",
   "metadata": {},
   "source": [
    "\n",
    "From Equation (13), we have the radial derivative condition at the well block:\n",
    "\\[\\frac{\\partial p}{\\partial y} \\bigg|_{y = y_w} = \\frac{Q \\mu}{2 \\pi h k}\\]\n",
    "    "
   ]
  },
  {
   "cell_type": "markdown",
   "id": "58e5e0e0",
   "metadata": {},
   "source": [
    "## Step 2: Approximating the Derivative Using Finite Differences"
   ]
  },
  {
   "cell_type": "markdown",
   "id": "ed3fe466",
   "metadata": {},
   "source": [
    "\n",
    "Using a forward finite difference approximation for the derivative at \\( y = y_w \\), we get:\n",
    "\\[\\frac{\\partial p}{\\partial y} \\bigg|_{y = y_w} \\approx \\frac{p(y_w + \\Delta y) - p(y_w)}{\\Delta y}\\]\n",
    "where \\( \\Delta y \\) is a small increment in the \\( y \\)-direction.\n",
    "\n",
    "Let \\( p_0 = p(y_w) \\) represent the pressure at the well block, and let \\( p_1 = p(y_w + \\Delta y) \\) represent the pressure at the adjacent block. Substituting these into the finite difference approximation:\n",
    "\\[\\frac{p_1 - p_0}{\\Delta y} \\approx \\frac{Q \\mu}{2 \\pi h k}\\]\n",
    "\n",
    "Rearranging for \\( p_1 \\):\n",
    "\\[p_1 \\approx p_0 + \\Delta y \\frac{Q \\mu}{2 \\pi h k}\\]\n",
    "    "
   ]
  },
  {
   "cell_type": "markdown",
   "id": "2e5454a8",
   "metadata": {},
   "source": [
    "## Step 3: Taylor Series Approximation at \\( y_w - \\Delta y / 2 \\)"
   ]
  },
  {
   "cell_type": "markdown",
   "id": "7d758744",
   "metadata": {},
   "source": [
    "\n",
    "Now, let's consider a Taylor series expansion for \\( p_0 \\) about \\( y_w - \\Delta y / 2 \\) to introduce the well pressure, \\( p_w \\), into our equation.\n",
    "\n",
    "Using a first-order Taylor series, we have:\n",
    "\\[p_0 = p(y_w - \\Delta y / 2) + \\frac{\\Delta y}{2} \\frac{\\partial p}{\\partial y} \\bigg|_{y = y_w}\\]\n",
    "where \\( p(y_w - \\Delta y / 2) \\) is the well pressure, \\( p_w \\).\n",
    "\n",
    "Substitute \\( \\frac{\\partial p}{\\partial y} \\bigg|_{y = y_w} \\) from Equation (13):\n",
    "\\[p_0 = p_w + \\frac{\\Delta y}{2} \\frac{Q \\mu}{2 \\pi h k}\\]\n",
    "    "
   ]
  },
  {
   "cell_type": "markdown",
   "id": "4463975e",
   "metadata": {},
   "source": [
    "## Step 4: Solving for \\( p_w \\) (the Well Pressure) Using \\( \\alpha \\)"
   ]
  },
  {
   "cell_type": "markdown",
   "id": "0cdeae00",
   "metadata": {},
   "source": [
    "\n",
    "Let's rewrite our expression by using the given definition:\n",
    "\\[\\alpha \\equiv \\frac{Q \\mu}{2 \\pi h k}\\]\n",
    "\n",
    "Our expression from **Step 3** is:\n",
    "\\[p_0 = p_w + \\frac{\\Delta y}{2} \\alpha\\]\n",
    "\n",
    "Rearrange this equation to solve for \\( p_w \\):\n",
    "\\[p_w = p_0 - \\frac{\\Delta y}{2} \\alpha\\]\n",
    "\n",
    "### Final Result\n",
    "Thus, the formula for the well pressure \\( p_w \\) in terms of the well block pressure \\( p_0 \\) is:\n",
    "\\[\\boxed{p_w \\approx p_0 - \\frac{\\Delta y}{2} \\alpha}\\]\n",
    "This provides a first-order approximation of the well pressure using a finite difference approach and the parameter \\( \\alpha \\), which depends on the flow rate \\( Q \\), viscosity \\( \\mu \\), thickness \\( h \\), and permeability \\( k \\).\n",
    "    "
   ]
  }
 ],
 "metadata": {},
 "nbformat": 4,
 "nbformat_minor": 5
}
